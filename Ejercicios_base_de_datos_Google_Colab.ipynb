{
  "nbformat": 4,
  "nbformat_minor": 0,
  "metadata": {
    "colab": {
      "provenance": [],
      "history_visible": true,
      "include_colab_link": true
    },
    "kernelspec": {
      "name": "python3",
      "display_name": "Python 3"
    },
    "language_info": {
      "name": "python"
    }
  },
  "cells": [
    {
      "cell_type": "markdown",
      "metadata": {
        "id": "view-in-github",
        "colab_type": "text"
      },
      "source": [
        "<a href=\"https://colab.research.google.com/github/SILVIAGONZALEZ1/Base-de-datos-II/blob/main/Ejercicios_base_de_datos_Google_Colab.ipynb\" target=\"_parent\"><img src=\"https://colab.research.google.com/assets/colab-badge.svg\" alt=\"Open In Colab\"/></a>"
      ]
    },
    {
      "cell_type": "code",
      "execution_count": null,
      "metadata": {
        "colab": {
          "base_uri": "https://localhost:8080/"
        },
        "id": "m7-fvKlwNdUu",
        "outputId": "5490b185-97af-45a4-f048-170f1f4f2207"
      },
      "outputs": [
        {
          "output_type": "stream",
          "name": "stdout",
          "text": [
            "Lista modificada: ['Ana', 'Marta', 'Carlos']\n"
          ]
        }
      ],
      "source": [
        "nombres =[\"Ana\",\"Luis\",\"Carlos\"]\n",
        "nombres[1]=\"Marta\"\n",
        "print(\"Lista modificada:\", nombres)"
      ]
    },
    {
      "cell_type": "code",
      "source": [
        "letras = ['a','b','c','d','e','f']\n",
        "letras[:3] =['A','B','C']\n",
        "print(letras)\n"
      ],
      "metadata": {
        "colab": {
          "base_uri": "https://localhost:8080/"
        },
        "id": "d6dyukPAOJDk",
        "outputId": "7ea88f9d-0112-479e-8d79-6444d67bfa91"
      },
      "execution_count": null,
      "outputs": [
        {
          "output_type": "stream",
          "name": "stdout",
          "text": [
            "['A', 'B', 'C', 'd', 'e', 'f']\n"
          ]
        }
      ]
    },
    {
      "cell_type": "markdown",
      "source": [],
      "metadata": {
        "id": "oF5ONa5iTzxK"
      }
    },
    {
      "cell_type": "code",
      "source": [
        "mi_diccionario={\"nombre\": \"Juan\", \"edad\": 30, \"ciudad\": \"Madrid\"},{\"nombre\": \"María\", \"edad\": 25, \"ciudad\": \"Barcelona\"},{\"nombre\": \"Carlos\", \"edad\": 35, \"ciudad\": \"Sevilla\"},{\"nombre\": \"Laura\", \"edad\": 28, \"ciudad\": \"Valencia\"},{\"nombre\": \"Pedro\", \"edad\": 32, \"ciudad\": \"Bilbao\"},{\"nombre\": \"Ana\", \"edad\": 27, \"ciudad\": \"Málaga\"}\n",
        "\n",
        "\n",
        "print(mi_diccionario)"
      ],
      "metadata": {
        "colab": {
          "base_uri": "https://localhost:8080/"
        },
        "id": "KXjCMJ9jSbGU",
        "outputId": "3cadb953-d114-47f9-f43b-c1c0b44e86e9"
      },
      "execution_count": null,
      "outputs": [
        {
          "output_type": "stream",
          "name": "stdout",
          "text": [
            "({'nombre': 'Juan', 'edad': 30, 'ciudad': 'Madrid'}, {'nombre': 'María', 'edad': 25, 'ciudad': 'Barcelona'}, {'nombre': 'Carlos', 'edad': 35, 'ciudad': 'Sevilla'}, {'nombre': 'Laura', 'edad': 28, 'ciudad': 'Valencia'}, {'nombre': 'Pedro', 'edad': 32, 'ciudad': 'Bilbao'}, {'nombre': 'Ana', 'edad': 27, 'ciudad': 'Málaga'})\n"
          ]
        }
      ]
    },
    {
      "cell_type": "code",
      "source": [
        "ciudades_del_mundo = {\n",
        "    \"Argentina\": [\"Bs.As\", \"Mza\", \"Cdba\"],\n",
        "    \"España\": [\"Barcelona\", \"Madrid\", \"Cataluña\"],\n",
        "    \"Francia\": [\"Paris\", \"Marcella\", \"Lyon\"]\n",
        "}\n",
        "\n",
        "for pais, ciudades in ciudades_del_mundo.items():\n",
        "    print(f\"{pais} : {', '.join(ciudades)}\")\n"
      ],
      "metadata": {
        "colab": {
          "base_uri": "https://localhost:8080/"
        },
        "id": "r2L3FCJRTR5Y",
        "outputId": "fc351f2d-df9a-409c-aafb-be8abe164dbf"
      },
      "execution_count": null,
      "outputs": [
        {
          "output_type": "stream",
          "name": "stdout",
          "text": [
            "Argentina : Bs.As, Mza, Cdba\n",
            "España : Barcelona, Madrid, Cataluña\n",
            "Francia : Paris, Marcella, Lyon\n"
          ]
        }
      ]
    },
    {
      "cell_type": "code",
      "source": [
        "import pandas as pd\n",
        "datos = [14000, 15000, 12000, 8000, 9000]\n",
        "indice = [\"Enero\", \"Febrero\", \"Marzo\", \"Abril\", \"Mayo\"]\n",
        "ventas = pd.Series(datos, indice)\n",
        "ventas\n",
        "ventas.size\n",
        "ventas.index\n",
        "ventas.values\n",
        "ventas[\"Enero\"]"
      ],
      "metadata": {
        "colab": {
          "base_uri": "https://localhost:8080/"
        },
        "id": "oUMjxgUYUeI2",
        "outputId": "d6539d16-d6f1-4a8c-8e86-f551211f1679"
      },
      "execution_count": null,
      "outputs": [
        {
          "output_type": "execute_result",
          "data": {
            "text/plain": [
              "14000"
            ]
          },
          "metadata": {},
          "execution_count": 23
        }
      ]
    }
  ]
}